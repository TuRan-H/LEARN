{
 "cells": [
  {
   "cell_type": "code",
   "execution_count": 1,
   "metadata": {},
   "outputs": [
    {
     "name": "stdout",
     "output_type": "stream",
     "text": [
      "<class 'tuple'>\n"
     ]
    }
   ],
   "source": [
    "dir = 'usr', 'alds'\n",
    "print(type(dir))"
   ]
  },
  {
   "cell_type": "code",
   "execution_count": 5,
   "metadata": {},
   "outputs": [
    {
     "name": "stdout",
     "output_type": "stream",
     "text": [
      "usr\n",
      "Usr\n"
     ]
    }
   ],
   "source": [
    "string = 'usr'\n",
    "new_string = string.title()\n",
    "print(string)\n",
    "print(new_string)\n"
   ]
  },
  {
   "cell_type": "code",
   "execution_count": 11,
   "metadata": {},
   "outputs": [
    {
     "data": {
      "text/plain": [
       "b'hell\\xf0'"
      ]
     },
     "execution_count": 11,
     "metadata": {},
     "output_type": "execute_result"
    }
   ],
   "source": [
    "string = b\"hell\\xf0\"\n",
    "string"
   ]
  },
  {
   "cell_type": "code",
   "execution_count": 25,
   "metadata": {},
   "outputs": [
    {
     "name": "stdout",
     "output_type": "stream",
     "text": [
      "{3: 'a', 'c': 'd'}\n",
      "{'name': 'turan', 'age': '23'}\n",
      "{3: 'a'}\n"
     ]
    }
   ],
   "source": [
    "from numpy import iterable\n",
    "items = [(3, \"a\"), ('c', 'd')]\n",
    "d = dict(items)\n",
    "print(d)\n",
    "\n",
    "d = dict(name =\"turan\", age=\"23\")\n",
    "print(d)\n",
    "\n",
    "d = {3:\"a\"}\n",
    "print(d)"
   ]
  },
  {
   "cell_type": "code",
   "execution_count": 29,
   "metadata": {},
   "outputs": [
    {
     "name": "stdout",
     "output_type": "stream",
     "text": [
      "turan, phone number, 123\n"
     ]
    }
   ],
   "source": [
    "people = {\n",
    "    'turan':{\n",
    "        'phone': '123',\n",
    "        'addr': 'guangzhou'\n",
    "    }\n",
    "}\n",
    "\n",
    "labels = { \n",
    "    \"phone\": \"phone number\",\n",
    "    \"addr\": 'address'\n",
    "}\n",
    "\n",
    "name = input(\"input your name\")\n",
    "request = input('p or a')\n",
    "\n",
    "if request == 'p': key = 'phone'\n",
    "if request == 'a': key = 'addr'\n",
    "print(f\"{name}, {labels[key]}, {people[name][key]}\")"
   ]
  },
  {
   "cell_type": "code",
   "execution_count": 3,
   "metadata": {},
   "outputs": [
    {
     "name": "stdout",
     "output_type": "stream",
     "text": [
      "hello myfriends, nihao, wodepengyou\n"
     ]
    }
   ],
   "source": [
    "mapping = {\n",
    "    \"greet\": \"hello myfriends\",\n",
    "    \"nihao\": \"nihao, wodepengyou\"\n",
    "}\n",
    "\n",
    "string = \"{greet}, {nihao}\".format_map(mapping)\n",
    "print(string)"
   ]
  },
  {
   "cell_type": "code",
   "execution_count": 18,
   "metadata": {},
   "outputs": [
    {
     "name": "stdout",
     "output_type": "stream",
     "text": [
      "turan\n",
      "['foo', 'bar', 'baz']\n",
      "TURAN\n",
      "turan\n",
      "['bar', 'baz']\n",
      "['bar', 'baz']\n"
     ]
    }
   ],
   "source": [
    "x = {\n",
    "    \"username\": \"turan\",\n",
    "    \"machine\": ['foo', 'bar', 'baz']\n",
    "}\n",
    "\n",
    "y = x.copy()\n",
    "print(x[\"username\"])\n",
    "print(x[\"machine\"])\n",
    "y[\"machine\"].remove(\"foo\")\n",
    "y[\"username\"] = \"TURAN\"\n",
    "print(y[\"username\"])\n",
    "print(x[\"username\"])\n",
    "print(y['machine'])\n",
    "print(x['machine'])\n"
   ]
  },
  {
   "cell_type": "code",
   "execution_count": 30,
   "metadata": {},
   "outputs": [
    {
     "name": "stdout",
     "output_type": "stream",
     "text": [
      "dict_items([('username', 'turan'), ('machine', ['foo', 'bar', 'baz']), ('key_1', 'value_1'), ('key_2', 'value_2')])\n",
      "dict_keys(['username', 'machine', 'key_1', 'key_2'])\n",
      "dict_values(['turan', ['foo', 'bar', 'baz'], 'value_1', 'value_2'])\n",
      "value_1\n",
      "(username, turan)\n",
      "(machine, ['foo', 'bar', 'baz'])\n",
      "(key_1, value_1)\n",
      "(key_2, value_2)\n",
      "hello world\n"
     ]
    }
   ],
   "source": [
    "x = {\n",
    "    \"username\": \"turan\",\n",
    "    \"machine\": ['foo', 'bar', 'baz'],\n",
    "    \"key_1\": \"value_1\",\n",
    "    \"key_2\": \"value_2\"\n",
    "}\n",
    "\n",
    "print(x.items())\n",
    "print(x.keys())\n",
    "print(x.values())\n",
    "temp = x.get(\"key_1\")\n",
    "print(temp)\n",
    "for key, value in x.items():\n",
    "    print(f\"({key}, {value})\", end=None)"
   ]
  }
 ],
 "metadata": {
  "kernelspec": {
   "display_name": "DLFS",
   "language": "python",
   "name": "python3"
  },
  "language_info": {
   "codemirror_mode": {
    "name": "ipython",
    "version": 3
   },
   "file_extension": ".py",
   "mimetype": "text/x-python",
   "name": "python",
   "nbconvert_exporter": "python",
   "pygments_lexer": "ipython3",
   "version": "3.11.5"
  }
 },
 "nbformat": 4,
 "nbformat_minor": 2
}
