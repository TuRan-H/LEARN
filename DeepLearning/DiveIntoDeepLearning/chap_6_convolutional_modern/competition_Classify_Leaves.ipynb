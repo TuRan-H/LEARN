{
 "cells": [
  {
   "cell_type": "markdown",
   "metadata": {},
   "source": [
    "# 动手学深度学习 第六章现代卷积神经网络竞赛\n",
    "竞赛介绍: https://www.bilibili.com/video/BV1z64y1o7iz/?spm_id_from=333.999.0.0\n",
    "\n",
    "\n",
    "竞赛地址: https://www.kaggle.com/c/classify-leaves"
   ]
  },
  {
   "cell_type": "code",
   "execution_count": 58,
   "metadata": {},
   "outputs": [],
   "source": [
    "from typing import Union\n",
    "import torch\n",
    "from torch import nn\n",
    "from torch.nn import functional as F\n",
    "import torch.utils\n",
    "from torch.utils.data import DataLoader, Dataset\n",
    "from torchvision import transforms\n",
    "import os\n",
    "import pandas as pd\n",
    "from PIL import Image\n",
    "from tqdm import tqdm\n",
    "from d2l import torch as d2l\n",
    "from sklearn.model_selection import train_test_split\n",
    "\n",
    "\n",
    "# ************************************************** substitute Tensor.__repr__\n",
    "original_tensor_repr = torch.Tensor.__repr__\n",
    "def custom_tensor_repr(self):\n",
    "\treturn f\"Shape{tuple(self.shape)}, {original_tensor_repr(self)}\"\n",
    "setattr(torch.Tensor, '__repr__', custom_tensor_repr)\n",
    "# ************************************************** substitute Tensor.__repr__"
   ]
  },
  {
   "cell_type": "markdown",
   "metadata": {},
   "source": [
    "# 构造数据集"
   ]
  },
  {
   "cell_type": "code",
   "execution_count": 59,
   "metadata": {},
   "outputs": [],
   "source": [
    "\n",
    "class LeaveDataset(Dataset):\n",
    "\t\"\"\"\n",
    "\t读取数据集, 对数据集进行处理\n",
    "\t\"\"\"\n",
    "\tdef __init__(self, dataset_path, split, split_path_df) -> None:\n",
    "\t\t\"\"\"\n",
    "\t\tArgs:\n",
    "\t\t\tdataset_path: 数据集的路径\n",
    "\t\t\tsplit: 数据集的划分, 可以是'train', 'test', 'dev'\n",
    "\t\t\tsplit_path: 数据集的划分文件的路径, 或者是一个dataframe\n",
    "\t\t\ttrain_dev_split: 训练集和验证集的划分比例\n",
    "\t\t\"\"\"\n",
    "\t\tsuper().__init__()\n",
    "\t\tself.dataset_path = dataset_path\n",
    "\t\tself.split = split\n",
    "\t\tif isinstance(split_path_df, str):\n",
    "\t\t\tself.dataframe = pd.read_csv(split_path_df)\n",
    "\t\telse:\n",
    "\t\t\tself.dataframe = split_path_df\n",
    "\n",
    "\n",
    "\t\tif self.split == 'train':\n",
    "\t\t\tself.transform = transforms.Compose([\n",
    "\t\t\t\ttransforms.Resize((42, 42)),\n",
    "\t\t\t\ttransforms.ToTensor(),\n",
    "\t\t\t\ttransforms.RandomHorizontalFlip(0.5),   # Data augmentation: 水平翻转\n",
    "\t\t\t\ttransforms.RandomVerticalFlip(0.5)\t# Data augmentation: 垂直翻转\n",
    "\t\t\t])\n",
    "\t\telse:\n",
    "\t\t\tself.transform = transforms.Compose([\n",
    "\t\t\t\ttransforms.Resize((42, 42)),\n",
    "\t\t\t\ttransforms.ToTensor(),\n",
    "\t\t\t])\n",
    "\n",
    "\n",
    "\t\t# 获取label2id和id2label\n",
    "\t\tlabel2id_path = os.path.join(self.dataset_path, \"label2id.csv\")\n",
    "\t\tdf = pd.read_csv(label2id_path)\n",
    "\t\tlabel2id = {}\n",
    "\t\tfor colum_name in df:\n",
    "\t\t\t# ! 这里十分重要, 一定要转换为int, 否则是numpy.int64, 会导致后面的错误\n",
    "\t\t\tlabel2id[colum_name] = int(df[colum_name][0])\n",
    "\t\tself.label2id = label2id\n",
    "\t\tid2label_path = os.path.join(self.dataset_path, \"id2label.csv\")\n",
    "\t\tdf = pd.read_csv(id2label_path)\n",
    "\t\tid2label = {}\n",
    "\t\tfor colum_name in df:\n",
    "\t\t\tid2label[int(colum_name)] = df[colum_name][0]\t# type: ignore\n",
    "\t\tself.id2label = id2label\n",
    "\t\t\n",
    "\t\t\n",
    "\t\t# 构建数据\n",
    "\t\tself.data = self.build_data()\n",
    "\n",
    "\t\n",
    "\tdef __getitem__(self, index) -> Union[tuple[torch.Tensor, str], tuple[torch.Tensor,]]:\n",
    "\t\tif self.split in ['train', 'dev']:\n",
    "\t\t\timage, label = self.data[index]\n",
    "\t\t\treturn image, label\n",
    "\t\telse:\n",
    "\t\t\timage = self.data[index]\n",
    "\t\t\treturn image\n",
    "\n",
    "\n",
    "\tdef __len__(self):\n",
    "\t\treturn len(self.data)\n",
    "\t\n",
    "\n",
    "\tdef build_data(self):\n",
    "\t\t\"\"\"\n",
    "\t\t读取图片, 对图片进行处理\n",
    "\t\t返回一个列表, 列表中的每个元素是一个元组, 元组的第一个元素是图片, 第二个元素是label (仅训练集)\n",
    "\t\t\"\"\"\n",
    "\t\tnum_label = len(self.label2id)\n",
    "\n",
    "\t\tdata = []\n",
    "\t\tbar = tqdm(total=len(self.dataframe), desc=\"Building data\")\n",
    "\t\t# *** 构建训练集数据\n",
    "\t\tif self.split in ['train', 'dev']:\n",
    "\t\t\tfor image_path, label in zip(self.dataframe['image'], self.dataframe['label']):\n",
    "\t\t\t\timage_path = os.path.join(self.dataset_path, image_path)\n",
    "\t\t\t\timage = Image.open(image_path)\n",
    "\t\t\t\timage = self.transform(image)\n",
    "\t\t\t\tdata.append((image, self.label2id[label]))\n",
    "\t\t\t\tbar.update(1)\n",
    "\t\t# *** 构建测试集数据, 测试集数据没有标签\n",
    "\t\telse:\n",
    "\t\t\tfor image_path in self.dataframe['image']:\n",
    "\t\t\t\timage_path = os.path.join(self.dataset_path, image_path)\n",
    "\t\t\t\timage = Image.open(image_path)\n",
    "\t\t\t\timage = self.transform(image)\n",
    "\t\t\t\tdata.append((tuple([image])))\n",
    "\t\t\t\tbar.update(1)\n",
    "\t\t\n",
    "\t\treturn data\n",
    "\t"
   ]
  },
  {
   "cell_type": "markdown",
   "metadata": {},
   "source": [
    "# 构造网络"
   ]
  },
  {
   "cell_type": "code",
   "execution_count": 60,
   "metadata": {},
   "outputs": [],
   "source": [
    "\n",
    "class Residual(nn.Module):\n",
    "\tdef __init__(self, input_channel, output_channel, use_1x1_conv=False, stride=1, **kwargs) -> None:\n",
    "\t\tsuper().__init__()\n",
    "\t\tself.conv1 = nn.Conv2d(input_channel, output_channel, 3, padding=1, stride=stride)\n",
    "\t\tself.batch_norm1 = nn.BatchNorm2d(output_channel)\n",
    "\t\tself.conv2 = nn.Conv2d(output_channel, output_channel, 3)\n",
    "\t\tself.batch_norm2 = nn.BatchNorm2d(output_channel)\n",
    "\n",
    "\t\tif use_1x1_conv:\n",
    "\t\t\tself.conv3 = nn.Conv2d(input_channel, output_channel, 1, stride=stride)\n",
    "\t\telse:\n",
    "\t\t\tself.conv3 = None\n",
    "\t\t\n",
    "\tdef forward(self, X):\n",
    "\t\tY = F.relu(self.batch_norm1(self.conv1(X)))\n",
    "\t\tY = self.batch_norm2(Y)\n",
    "\n",
    "\t\tif self.conv3:\n",
    "\t\t\tX = self.conv3(X)\n",
    "\t\t\n",
    "\t\treturn F.relu(Y + X)\n",
    "\n",
    "\t\t\t\t\n",
    "class ResNet(nn.Module):\n",
    "\tdef __init__(self, *args, **kwargs) -> None:\n",
    "\t\tsuper().__init__(*args, **kwargs)\n",
    "\n",
    "\t\tb1 = nn.Sequential(\n",
    "\t\t\tnn.Conv2d(3, 64, kernel_size=7, stride=2, padding=3),\n",
    "\t\t\tnn.BatchNorm2d(64), nn.ReLU(),\n",
    "\t\t\tnn.MaxPool2d(kernel_size=3, stride=2, padding=1)\n",
    "\t\t)\n",
    "\t\tb2 = nn.Sequential(*self.resnet_block(64, 64, 2, first_block=True))\n",
    "\t\tb3 = nn.Sequential(*self.resnet_block(64, 128, 2))\n",
    "\t\tb4 = nn.Sequential(*self.resnet_block(128, 256, 2))\n",
    "\t\tb5 = nn.Sequential(*self.resnet_block(256, 512, 2))\n",
    "\n",
    "\t\tself.model = nn.Sequential(\n",
    "\t\t\tb1, b2, b3, b4, b5,\n",
    "\t\t\tnn.AdaptiveAvgPool2d((1, 1)),\n",
    "\t\t\tnn.Flatten(),\n",
    "\t\t\tnn.Linear(512, 176)\n",
    "\t\t)\n",
    "\t\n",
    "\tdef forward(self, X):\n",
    "\t\treturn self.model(X)\n",
    "\t\n",
    "\n",
    "\t@staticmethod\n",
    "\tdef resnet_block(input_channel, num_channels, num_residuals, first_block=False):\n",
    "\t\t\"\"\"\n",
    "\t\t构建resnet块\n",
    "\n",
    "\t\tArgs:\n",
    "\t\t\tinput_channel: 输入通道数\n",
    "\t\t\tnum_channels: 输出通道数\n",
    "\t\t\tnum_residuals: resnet块中的残差块数\n",
    "\t\t\tfirst_block: 是否是第一个块\n",
    "\t\t\"\"\"\n",
    "\t\tblk = []\n",
    "\t\tfor i in range(num_residuals):\n",
    "\t\t\tif i == 0 and not first_block:\n",
    "\t\t\t\t# 第一个残差块将通道数翻倍, 长宽减半\n",
    "\t\t\t\tblk.append(Residual(input_channel, num_channels, use_1x1_conv=True, stride=2))\n",
    "\t\t\telse:\n",
    "\t\t\t\t# 之后的残差块不改变长宽和通道数 (如果是ResNet的first_block, 那么第一个残差快也不改变长宽和通道数)\n",
    "\t\t\t\tblk.append(Residual(num_channels, num_channels))\n",
    "\t\treturn blk"
   ]
  },
  {
   "cell_type": "markdown",
   "metadata": {},
   "source": [
    "# 训练函数"
   ]
  },
  {
   "cell_type": "code",
   "execution_count": 61,
   "metadata": {},
   "outputs": [],
   "source": [
    "\n",
    "def compute_metrics(y_hat, y):\n",
    "    \"\"\"Compute the number of correct predictions.\n",
    "\n",
    "    Defined in :numref:`sec_softmax_scratch`\"\"\"\n",
    "    if len(y_hat.shape) > 1 and y_hat.shape[1] > 1:\n",
    "        y_hat = d2l.argmax(y_hat, axis=1)\n",
    "    cmp = d2l.astype(y_hat, y.dtype) == y\n",
    "    return float(d2l.reduce_sum(d2l.astype(cmp, y.dtype)))\n",
    "\n",
    "\n",
    "def train(model:nn.Module, train_loader, test_loader, num_epochs, learning_rate, weight_decay=None, device=None):\n",
    "\t\"\"\"\n",
    "\t\"\"\"\n",
    "\t# 参数初始化\n",
    "\tdef init_weight(layer):\n",
    "\t\tif isinstance(layer, nn.Conv2d) or isinstance(layer, nn.Linear):\n",
    "\t\t\tnn.init.xavier_uniform_(layer.weight)\n",
    "\tmodel.apply(init_weight)\n",
    "\n",
    "\t# 定义损失函数, 优化器\n",
    "\tloss = nn.CrossEntropyLoss()\n",
    "\tif weight_decay:\n",
    "\t\toptimizer = torch.optim.Adam(model.parameters(), lr=learning_rate, weight_decay=weight_decay)\n",
    "\telse:\n",
    "\t\toptimizer = torch.optim.Adam(model.parameters(), lr=learning_rate)\n",
    "\n",
    "\t# 绘图\n",
    "\tnum_batches = len(train_loader)\n",
    "\n",
    "\t# 确定模型以及数据的位置\n",
    "\tif not device:\n",
    "\t\tdevice = 'cuda:0' if torch.cuda.is_available() else 'cpu'\n",
    "\tmodel.to(device)\n",
    "\n",
    "\tepoch_bar = tqdm(total=num_epochs, position=0, leave=True, desc=\"Training\")\n",
    "\tfor epoch in range(num_epochs):\n",
    "\t\t# metric中, 0表示训练的loss, 1表示测试的loss, 2表示测试的准确率\n",
    "\t\tmetric = d2l.Accumulator(3)\n",
    "\t\tmodel.train()\n",
    "\t\tfor i, (X, y) in enumerate(train_loader):\n",
    "\t\t\tX, y = X.to(device), y.to(device)\n",
    "\t\t\toptimizer.zero_grad()\n",
    "\t\t\ty_hat = model(X)\n",
    "\t\t\tl = loss(y_hat, y)\n",
    "\t\t\tl.backward()\n",
    "\t\t\toptimizer.step()\n",
    "\t\t\twith torch.no_grad():\n",
    "\t\t\t\tmetric.add(l*X.shape[0], compute_metrics(y_hat, y), X.shape[0])\n",
    "\t\t\ttrain_l = metric[0] / metric[2]\n",
    "\t\t\ttrain_acc = metric[1] / metric[2]\n",
    "\t\ttest_acc = d2l.evaluate_accuracy_gpu(model, test_loader)\n",
    "\t\tepoch_bar.update(1)\n",
    "\t\tepoch_bar.set_description(f\"Training on Epoch {epoch + 1}, test_acc:{test_acc:.3f}, train_acc:{train_acc:.3f}, train_loss:{train_l:.3f}\")\t# type: ignore\n",
    "\n",
    "\tprint(f\"Finally test acc is {test_acc}\")\t# type: ignore\n"
   ]
  },
  {
   "cell_type": "markdown",
   "metadata": {},
   "source": [
    "# 其他函数"
   ]
  },
  {
   "cell_type": "code",
   "execution_count": 62,
   "metadata": {},
   "outputs": [],
   "source": [
    "\n",
    "def inspect_dataset(dataset):\n",
    "\t\"\"\"\n",
    "\t查看数据集\n",
    "\t\"\"\"\n",
    "\timport numpy as np\n",
    "\tfrom matplotlib import pyplot as plt\n",
    "\timport random\n",
    "\n",
    "\tindex = random.randint(0, 1000)\n",
    "\tid2label = dataset.id2label\n",
    "\ttemp_tensor = dataset[index][0]\n",
    "\ttemp_label = dataset[index][1]\n",
    "\n",
    "\ttemp_array = temp_tensor.numpy()\n",
    "\ttemp_array = np.transpose(temp_array, (1, 2, 0))\n",
    "\n",
    "\tplt.imshow(temp_array)\n",
    "\tprint(index)\n",
    "\tprint(id2label[temp_label])"
   ]
  },
  {
   "cell_type": "markdown",
   "metadata": {},
   "source": [
    "# 开始训练"
   ]
  },
  {
   "cell_type": "code",
   "execution_count": 63,
   "metadata": {},
   "outputs": [],
   "source": [
    "\n",
    "# ************************************************** 超参数\n",
    "# 图像的长和宽是224, 224\n",
    "dataset_path = \"./dataset/classify_leaves\"\n",
    "# split文件中同时记录了label\n",
    "train_split = \"./dataset/classify_leaves/train.csv\"\n",
    "test_split = \"./dataset/classify_leaves/test.csv\"\n",
    "batch_size = 128\n",
    "train_ratio = 0.8\n",
    "learning_rate = 1e-2\n",
    "num_epochs = 50\n",
    "# ************************************************** 超参数"
   ]
  },
  {
   "cell_type": "code",
   "execution_count": 64,
   "metadata": {},
   "outputs": [
    {
     "name": "stderr",
     "output_type": "stream",
     "text": []
    },
    {
     "name": "stderr",
     "output_type": "stream",
     "text": [
      "Building data: 100%|██████████| 14682/14682 [00:18<00:00, 795.46it/s]\n",
      "Building data: 100%|██████████| 3671/3671 [00:04<00:00, 850.21it/s]\n",
      "Building data: 100%|██████████| 8800/8800 [00:10<00:00, 850.80it/s]\n"
     ]
    }
   ],
   "source": [
    "train_split_dataframe = pd.read_csv(train_split)\n",
    "train_df, dev_df = train_test_split(train_split_dataframe, train_size=train_ratio, shuffle=False)\n",
    "train_dataset = LeaveDataset(dataset_path, 'train', train_df)\n",
    "dev_dataset = LeaveDataset(dataset_path, 'dev', dev_df)\n",
    "test_dataset = LeaveDataset(dataset_path, 'test', test_split)\n",
    "\n",
    "train_loader = DataLoader(train_dataset, batch_size, True, num_workers=4)\n",
    "dev_loader = DataLoader(dev_dataset, batch_size, True, num_workers=4)\n",
    "test_loader = DataLoader(test_dataset, batch_size, True, num_workers=4)"
   ]
  },
  {
   "cell_type": "code",
   "execution_count": 65,
   "metadata": {},
   "outputs": [
    {
     "name": "stdout",
     "output_type": "stream",
     "text": [
      "481\n",
      "cryptomeria_japonica\n"
     ]
    },
    {
     "data": {
      "image/png": "[encoded data removed]",
      "text/plain": [
       "<Figure size 640x480 with 1 Axes>"
      ]
     },
     "metadata": {},
     "output_type": "display_data"
    }
   ],
   "source": [
    "inspect_dataset(train_dataset)"
   ]
  },
  {
   "cell_type": "code",
   "execution_count": 67,
   "metadata": {},
   "outputs": [
    {
     "name": "stderr",
     "output_type": "stream",
     "text": [
      "Training on Epoch 50, test_acc:0.434, train_acc:0.850, train_loss:0.459: 100%|██████████| 50/50 [02:39<00:00,  3.18s/it]"
     ]
    },
    {
     "name": "stdout",
     "output_type": "stream",
     "text": [
      "Finally test acc is 0.43421411059656767\n"
     ]
    },
    {
     "name": "stderr",
     "output_type": "stream",
     "text": [
      "\n"
     ]
    }
   ],
   "source": [
    "model = ResNet()\n",
    "train(model, train_loader, dev_loader, num_epochs, learning_rate)"
   ]
  }
 ],
 "metadata": {
  "kernelspec": {
   "display_name": "LEARN",
   "language": "python",
   "name": "python3"
  },
  "language_info": {
   "codemirror_mode": {
    "name": "ipython",
    "version": 3
   },
   "file_extension": ".py",
   "mimetype": "text/x-python",
   "name": "python",
   "nbconvert_exporter": "python",
   "pygments_lexer": "ipython3",
   "version": "3.9.19"
  }
 },
 "nbformat": 4,
 "nbformat_minor": 2
}
