{
 "cells": [
  {
   "cell_type": "markdown",
   "metadata": {},
   "source": [
    "# 动手学深度学习 章节7.5 批量规范化 (batch normalization) 代码实现"
   ]
  },
  {
   "cell_type": "code",
   "execution_count": 4,
   "metadata": {},
   "outputs": [],
   "source": [
    "import torch\n",
    "from torch import nn"
   ]
  },
  {
   "cell_type": "markdown",
   "metadata": {},
   "source": [
    "定义batch normalization层"
   ]
  },
  {
   "cell_type": "code",
   "execution_count": 5,
   "metadata": {},
   "outputs": [],
   "source": [
    "class BatchNorm(nn.Module):\n",
    "\tdef __init__(self, num_features, input_dim, **kwargs) -> None:\n",
    "\t\tsuper().__init__(**kwargs)\n",
    "\n",
    "\t\tif input_dim == 2:\n",
    "\t\t\tshape = (1, num_features)\n",
    "\t\telse:\n",
    "\t\t\tshape = (1, num_features, 1, 1)\n",
    "\t\tself.moving_mean = torch.zeros(shape)\n",
    "\t\tself.moving_var = torch.zeros(shape)\n",
    "\n",
    "\t\t# 对每一个特征维度重新赋予可学习的scale和bias参数\n",
    "\t\tself.gamma = nn.Parameter(torch.ones(shape))\n",
    "\t\tself.beta = nn.Parameter(torch.zeros(shape))\n",
    "\t\n",
    "\n",
    "\tdef forward(self, X):\n",
    "\t\tif self.moving_mean.device != X.device:\n",
    "\t\t\tself.moving_mean = self.moving_mean.to(X.device)\n",
    "\t\t\tself.moving_var = self.moving_var.to(X.device)\n",
    "\t\t\n",
    "\t\tY, self.moving_mean, self.moving_var = self.batch_norm(\n",
    "\t\t\tX, self.gamma, self.beta, self.moving_mean, self.moving_var,\n",
    "\t\t\teps=1e-5, momentum=0.9\n",
    "\t\t)\n",
    "\n",
    "\t\treturn Y\n",
    "\n",
    "\t\n",
    "\t@staticmethod\n",
    "\tdef batch_norm(X:torch.Tensor, gamma, beta, moving_mean, moving_var, eps, momentum):\n",
    "\t\t\"\"\"\n",
    "\t\tApplies batch normalization to the input tensor.\n",
    "\t\tArgs:\n",
    "\t\t\tX (torch.Tensor): The input tensor of shape\n",
    "\t\t\tgamma (torch.Tensor): The learnable scale parameter of shape\n",
    "\t\t\tbeta (torch.Tensor): The learnable shift parameter of shape\n",
    "\t\t\tmoving_mean (torch.Tensor): 整体数据集的均值\n",
    "\t\t\tmoving_var (torch.Tensor): 整体数据集的方差\n",
    "\t\t\teps (float): A small value added to the denominator for numerical stability.\n",
    "\t\t\tmomentum (float): The momentum for computing the moving average of the mean and variance.\n",
    "\t\tReturns:\n",
    "\t\t\ttorch.Tensor: The normalized tensor of the same shape as X.\n",
    "\t\t\"\"\"\n",
    "\t\t\n",
    "\t\tif not torch.is_grad_enabled():\n",
    "\t\t\t# 使用移动平均的均值和方差对样本进行归一化\n",
    "\t\t\tX_hat = (X - moving_mean) / torch.sqrt(moving_var + eps)\n",
    "\t\telse:\n",
    "\t\t\tassert len(X.shape) in (2, 4)\n",
    "\t\t\t# 全连接层, X是2维\n",
    "\t\t\tif len(X.shape) == 2:\n",
    "\t\t\t\tmean = X.mean(dim=0)\n",
    "\t\t\t\tvar = ((X - mean)**2).mean(dim=0)\n",
    "\t\t\t# 卷积层, X是4维\n",
    "\t\t\telse:\n",
    "\t\t\t\tmean = X.mean(dim=[0,2,3], keepdim=True)\n",
    "\t\t\t\tvar = ((X - mean)**2).mean(dim=[0,2,3], keepdim=True)\n",
    "\n",
    "\t\t\tX_hat = (X - mean) / torch.sqrt(var + eps)\n",
    "\n",
    "\t\t\t# 使用EMA更新移动平均的均值和方差\n",
    "\t\t\tmoving_mean = momentum * moving_mean + (1.0 - momentum) * mean\n",
    "\t\t\tmoving_var = momentum * moving_var + (1.0 - momentum) * var\n",
    "\n",
    "\t\t# 拉伸和偏移 (重新赋予均值和方差)\n",
    "\t\tY = gamma * X_hat + beta\n",
    "\n",
    "\t\treturn Y, moving_mean, moving_var"
   ]
  }
 ],
 "metadata": {
  "kernelspec": {
   "display_name": "LEARN",
   "language": "python",
   "name": "python3"
  },
  "language_info": {
   "codemirror_mode": {
    "name": "ipython",
    "version": 3
   },
   "file_extension": ".py",
   "mimetype": "text/x-python",
   "name": "python",
   "nbconvert_exporter": "python",
   "pygments_lexer": "ipython3",
   "version": "3.9.19"
  }
 },
 "nbformat": 4,
 "nbformat_minor": 2
}
