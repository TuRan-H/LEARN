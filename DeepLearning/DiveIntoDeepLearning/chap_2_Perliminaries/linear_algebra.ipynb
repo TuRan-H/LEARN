{
 "cells": [
  {
   "cell_type": "code",
   "execution_count": 1,
   "metadata": {},
   "outputs": [],
   "source": [
    "import torch"
   ]
  },
  {
   "cell_type": "markdown",
   "metadata": {},
   "source": [
    "# 证明一个矩阵$A$的转置$A^T$是$A$"
   ]
  },
  {
   "cell_type": "code",
   "execution_count": 5,
   "metadata": {},
   "outputs": [
    {
     "name": "stdout",
     "output_type": "stream",
     "text": [
      "transpos\n"
     ]
    }
   ],
   "source": [
    "A = torch.ones([3, 3])\n",
    "A_T = A.T\n",
    "if_trans = A == A_T\n",
    "for i in if_trans:\n",
    "    for j in i:\n",
    "        if j == False: print(\"Not transpos\")\n",
    "print(\"transpos\")"
   ]
  },
  {
   "cell_type": "markdown",
   "metadata": {},
   "source": [
    "# 证明 $A^T + B^T = (A+B)^T$"
   ]
  },
  {
   "cell_type": "code",
   "execution_count": 3,
   "metadata": {},
   "outputs": [
    {
     "name": "stdout",
     "output_type": "stream",
     "text": [
      "transpos\n"
     ]
    }
   ],
   "source": [
    "A = torch.ones([3, 3])\n",
    "B = torch.zeros([3, 3])\n",
    "A_T = A.T\n",
    "B_T = B.T\n",
    "A_Plus_B = A+B\n",
    "\n",
    "if_trans = (A_Plus_B).T == A_T + B_T\n",
    "for i in if_trans:\n",
    "    for j in i:\n",
    "        if j == False: print(\"Not transpos\")\n",
    "print(\"transpos\")"
   ]
  },
  {
   "cell_type": "markdown",
   "metadata": {},
   "source": [
    "# 考虑 `A/A.sum(axis=1)`"
   ]
  },
  {
   "cell_type": "code",
   "execution_count": 4,
   "metadata": {},
   "outputs": [
    {
     "name": "stdout",
     "output_type": "stream",
     "text": [
      "torch.Size([2, 3, 4])\n",
      "torch.Size([2, 1, 4])\n"
     ]
    },
    {
     "data": {
      "text/plain": [
       "tensor([[[ 2.1091,  0.3462, -0.0438, -1.5975],\n",
       "         [-0.1817,  0.1307,  0.9171,  2.2574],\n",
       "         [-0.9274,  0.5232,  0.1267,  0.3401]],\n",
       "\n",
       "        [[ 0.2730, -0.0417,  0.6866,  2.2685],\n",
       "         [ 0.3304,  0.3243, -0.2866,  1.0411],\n",
       "         [ 0.3966,  0.7175,  0.6001, -2.3095]]])"
      ]
     },
     "execution_count": 4,
     "metadata": {},
     "output_type": "execute_result"
    }
   ],
   "source": [
    "A = torch.randn(2, 3, 4)\n",
    "print(A.shape)\n",
    "print(A.sum(axis=1, keepdim=True).shape)\n",
    "A / A.sum(axis=1, keepdim=True)"
   ]
  }
 ],
 "metadata": {
  "kernelspec": {
   "display_name": "py311th21",
   "language": "python",
   "name": "python3"
  },
  "language_info": {
   "codemirror_mode": {
    "name": "ipython",
    "version": 3
   },
   "file_extension": ".py",
   "mimetype": "text/x-python",
   "name": "python",
   "nbconvert_exporter": "python",
   "pygments_lexer": "ipython3",
   "version": "3.9.19"
  }
 },
 "nbformat": 4,
 "nbformat_minor": 2
}
