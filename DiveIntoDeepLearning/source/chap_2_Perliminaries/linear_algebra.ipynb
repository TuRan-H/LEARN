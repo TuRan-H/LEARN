{
 "cells": [
  {
   "cell_type": "code",
   "execution_count": 2,
   "metadata": {},
   "outputs": [],
   "source": [
    "import torch"
   ]
  },
  {
   "cell_type": "markdown",
   "metadata": {},
   "source": [
    "# 1. 证明一个矩阵$A$的转置$A^T$是$A$"
   ]
  },
  {
   "cell_type": "code",
   "execution_count": 9,
   "metadata": {},
   "outputs": [
    {
     "name": "stdout",
     "output_type": "stream",
     "text": [
      "transpos\n"
     ]
    }
   ],
   "source": [
    "A = torch.ones([3, 3])\n",
    "A_T = A.T\n",
    "if_trans = A == A_T\n",
    "for i in if_trans:\n",
    "    for j in i:\n",
    "        if j == False: print(\"Not transpos\")\n",
    "print(\"transpos\")"
   ]
  },
  {
   "cell_type": "markdown",
   "metadata": {},
   "source": [
    "# 2. 证明 $A^T + B^T = (A+B)^T$"
   ]
  },
  {
   "cell_type": "code",
   "execution_count": 20,
   "metadata": {},
   "outputs": [
    {
     "name": "stdout",
     "output_type": "stream",
     "text": [
      "transpos\n"
     ]
    }
   ],
   "source": [
    "A = torch.ones([3, 3])\n",
    "B = torch.zeros([3, 3])\n",
    "A_T = A.T\n",
    "B_T = B.T\n",
    "A_Plus_B = A+B\n",
    "\n",
    "if_trans = (A_Plus_B).T == A_T + B_T\n",
    "for i in if_trans:\n",
    "    for j in i:\n",
    "        if j == False: print(\"Not transpos\")\n",
    "print(\"transpos\")"
   ]
  },
  {
   "cell_type": "markdown",
   "metadata": {},
   "source": [
    "# 6. 考虑 `A/A.sum(axis=1)`"
   ]
  },
  {
   "cell_type": "code",
   "execution_count": null,
   "metadata": {},
   "outputs": [
    {
     "name": "stdout",
     "output_type": "stream",
     "text": [
      "torch.Size([2, 3, 4])\n",
      "torch.Size([2, 1, 4])\n"
     ]
    },
    {
     "data": {
      "text/plain": [
       "tensor([[[-1.4173, -0.7845, -4.7074,  0.7258],\n",
       "         [-1.3800, -1.0004,  4.9531, -0.3689],\n",
       "         [ 3.7974,  2.7849,  0.7544,  0.6431]],\n",
       "\n",
       "        [[ 0.8325,  0.0836,  0.3238, -1.6174],\n",
       "         [ 0.5173,  0.5739,  0.3179,  0.7530],\n",
       "         [-0.3498,  0.3425,  0.3583,  1.8644]]])"
      ]
     },
     "metadata": {},
     "output_type": "display_data"
    }
   ],
   "source": [
    "A = torch.randn(2, 3, 4)\n",
    "print(A.shape)\n",
    "print(A.sum(axis=1, keepdim=True).shape)\n",
    "A / A.sum(axis=1, keepdim=True)"
   ]
  }
 ],
 "metadata": {
  "kernelspec": {
   "display_name": "py311th21",
   "language": "python",
   "name": "python3"
  },
  "language_info": {
   "codemirror_mode": {
    "name": "ipython",
    "version": 3
   },
   "file_extension": ".py",
   "mimetype": "text/x-python",
   "name": "python",
   "nbconvert_exporter": "python",
   "pygments_lexer": "ipython3",
   "version": "3.11.0"
  }
 },
 "nbformat": 4,
 "nbformat_minor": 2
}
